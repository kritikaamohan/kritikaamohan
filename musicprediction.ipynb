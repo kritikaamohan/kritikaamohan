{
  "nbformat": 4,
  "nbformat_minor": 0,
  "metadata": {
    "colab": {
      "provenance": [],
      "authorship_tag": "ABX9TyP6UY5J+/1n300G8E6smGFo",
      "include_colab_link": true
    },
    "kernelspec": {
      "name": "python3",
      "display_name": "Python 3"
    },
    "language_info": {
      "name": "python"
    }
  },
  "cells": [
    {
      "cell_type": "markdown",
      "metadata": {
        "id": "view-in-github",
        "colab_type": "text"
      },
      "source": [
        "<a href=\"https://colab.research.google.com/github/kritikaamohan/kritikaamohan/blob/main/musicprediction.ipynb\" target=\"_parent\"><img src=\"https://colab.research.google.com/assets/colab-badge.svg\" alt=\"Open In Colab\"/></a>"
      ]
    },
    {
      "cell_type": "code",
      "source": [
        "import pandas as pd"
      ],
      "metadata": {
        "id": "5mbX3kapLHiP"
      },
      "execution_count": 125,
      "outputs": []
    },
    {
      "cell_type": "code",
      "metadata": {
        "id": "b5f6e05d"
      },
      "source": [
        "df = pd.read_csv('/content/Spotify_data.csv')\n",
        "print(df.head())"
      ],
      "execution_count": null,
      "outputs": []
    },
    {
      "cell_type": "code",
      "source": [
        "display(df.head())"
      ],
      "metadata": {
        "id": "jvWeKqtdvlsq"
      },
      "execution_count": null,
      "outputs": []
    },
    {
      "cell_type": "code",
      "source": [
        "df.drop(columns=['Unnamed: 0'], inplace=True)"
      ],
      "metadata": {
        "id": "1pXOBZjuZFzd"
      },
      "execution_count": 82,
      "outputs": []
    },
    {
      "cell_type": "code",
      "source": [
        "display(df.head())"
      ],
      "metadata": {
        "id": "1dCoa8wwZF2g"
      },
      "execution_count": null,
      "outputs": []
    },
    {
      "cell_type": "code",
      "source": [
        "df.info()"
      ],
      "metadata": {
        "id": "3CTJHRMBZF5a"
      },
      "execution_count": null,
      "outputs": []
    },
    {
      "cell_type": "code",
      "source": [
        "print(df.columns)"
      ],
      "metadata": {
        "id": "32xoYVYQZF8T"
      },
      "execution_count": null,
      "outputs": []
    },
    {
      "cell_type": "code",
      "source": [
        "df.describe()"
      ],
      "metadata": {
        "id": "QxI9qlF2ZF-u"
      },
      "execution_count": null,
      "outputs": []
    },
    {
      "cell_type": "code",
      "source": [
        "df.isnull().sum()"
      ],
      "metadata": {
        "id": "N4m6lhsDeRXv"
      },
      "execution_count": null,
      "outputs": []
    },
    {
      "cell_type": "code",
      "source": [
        "df.duplicated().sum()"
      ],
      "metadata": {
        "colab": {
          "base_uri": "https://localhost:8080/"
        },
        "id": "v75JPn5BeRal",
        "outputId": "b76d4874-ea12-4843-e7c5-6d11a619d929"
      },
      "execution_count": 88,
      "outputs": [
        {
          "output_type": "execute_result",
          "data": {
            "text/plain": [
              "np.int64(15)"
            ]
          },
          "metadata": {},
          "execution_count": 88
        }
      ]
    },
    {
      "cell_type": "code",
      "source": [
        "import matplotlib.pyplot as plt\n",
        "import seaborn as sns"
      ],
      "metadata": {
        "id": "G3HkCxpveRdP"
      },
      "execution_count": 126,
      "outputs": []
    },
    {
      "cell_type": "code",
      "source": [
        "features= ['Energy', 'Valence', 'Danceability', 'Loudness', 'Acousticness']"
      ],
      "metadata": {
        "id": "OVvbLQ6ueRgY"
      },
      "execution_count": 90,
      "outputs": []
    },
    {
      "cell_type": "code",
      "source": [
        "for feature in features:\n",
        "  plt.figure(figsize=(10,5))\n",
        "  sns.scatterplot(data= df, x=feature, y='Popularity')\n",
        "  plt.title(f'Popularity Vs {feature}')\n",
        "  plt.show()"
      ],
      "metadata": {
        "id": "59HiWu0weRjP"
      },
      "execution_count": null,
      "outputs": []
    },
    {
      "cell_type": "code",
      "source": [
        "numeric_columns = df.select_dtypes(include=['int64', 'float64']).columns\n",
        "numeric_data = df[numeric_columns]\n",
        "#Pick only the columns that have numeric data — either integers (whole numbers) or floats (decimal numbers)"
      ],
      "metadata": {
        "id": "f7UpFX22eRmT"
      },
      "execution_count": 92,
      "outputs": []
    },
    {
      "cell_type": "code",
      "source": [
        "corr_matrix = numeric_data.corr() #Correlation between all the features"
      ],
      "metadata": {
        "id": "b9QZytY7eRpJ"
      },
      "execution_count": 93,
      "outputs": []
    },
    {
      "cell_type": "code",
      "source": [
        "plt.figure(figsize=(12, 10))\n",
        "sns.heatmap(corr_matrix, annot=True, cmap='coolwarm', fmt='.2f', linewidths=0.5)\n",
        "plt.title('Correlation Matrix')\n",
        "plt.show()"
      ],
      "metadata": {
        "id": "4bcroGGveRsQ"
      },
      "execution_count": null,
      "outputs": []
    },
    {
      "cell_type": "code",
      "source": [
        "#popularity has a moderate positive correlation with loudness (0.31) and danceability (0.25), indicating that louder and more danceable tracks tend to be more popular.\n",
        "#There is a moderate negative correlation between popularity and acousticness (-0.43), suggesting that tracks with higher acousticness are generally less popular.\n",
        "#Energy also has a positive correlation with popularity (0.25)."
      ],
      "metadata": {
        "id": "iRNc9hFBeRv0"
      },
      "execution_count": 95,
      "outputs": []
    },
    {
      "cell_type": "code",
      "source": [
        "#Distribution of all the features\n",
        "for feature in features:\n",
        "    plt.figure(figsize=(8, 5))\n",
        "    sns.histplot(df[feature], kde=True)\n",
        "    plt.title(f'Distribution of {feature}')\n",
        "    plt.show()"
      ],
      "metadata": {
        "id": "tD2yRx1cZGBt"
      },
      "execution_count": null,
      "outputs": []
    },
    {
      "cell_type": "code",
      "source": [
        "#Feature Selection : Energy ,Valence, Danceability, Loudness ,Acousticness ,Tempo ,Speechiness, Liveness\n",
        "#These features capture various audio characteristics that influence the popularity of music tracks."
      ],
      "metadata": {
        "id": "7GB4dGcNZGEv"
      },
      "execution_count": 97,
      "outputs": []
    },
    {
      "cell_type": "code",
      "source": [
        "#Model Training\n",
        "from sklearn.model_selection import train_test_split, GridSearchCV\n",
        "from sklearn.preprocessing import StandardScaler\n",
        "from sklearn.ensemble import RandomForestRegressor\n",
        "from sklearn.metrics import mean_squared_error, mean_absolute_error, r2_score"
      ],
      "metadata": {
        "id": "i5qpMNNEZGIM"
      },
      "execution_count": 127,
      "outputs": []
    },
    {
      "cell_type": "code",
      "source": [
        "#Selecting features and the target variable\n",
        "features = ['Energy', 'Valence', 'Danceability', 'Loudness', 'Acousticness', 'Tempo', 'Speechiness', 'Liveness']\n",
        "X= df[features]\n",
        "y= df['Popularity']"
      ],
      "metadata": {
        "id": "W-dAkBBmBEgW"
      },
      "execution_count": 99,
      "outputs": []
    },
    {
      "cell_type": "code",
      "source": [
        "#Split data into two ; training = 80% to teach the model & testing = 20% to check if it learned well\n",
        "X_train, X_test, y_train, y_test = train_test_split(X, y, test_size=0.2, random_state=42)"
      ],
      "metadata": {
        "id": "_NIegKQJBEjN"
      },
      "execution_count": 100,
      "outputs": []
    },
    {
      "cell_type": "code",
      "source": [
        "#Normalizing all features\n",
        "scaler = StandardScaler()\n",
        "X_train_scaled = scaler.fit_transform(X_train)\n",
        "X_test_scaled = scaler.transform(X_test)"
      ],
      "metadata": {
        "id": "eYhBWT-VHoD2"
      },
      "execution_count": 101,
      "outputs": []
    },
    {
      "cell_type": "code",
      "source": [
        "#Parameter grid of the Random Forest\n",
        "param_grid = {\n",
        "    'n_estimators': [50,100,200],\n",
        "    'max_features': ['auto', 'sqrt', 'log2'],\n",
        "    'max_depth': [10, 20, 30, None],\n",
        "    'min_samples_split': [2, 5, 10],\n",
        "    'min_samples_leaf': [1, 2, 4]\n",
        "}"
      ],
      "metadata": {
        "id": "PYKmTEDwFhKK"
      },
      "execution_count": 102,
      "outputs": []
    },
    {
      "cell_type": "code",
      "source": [
        "# Grid search with 5-fold CV\n",
        "grid_search_rf = GridSearchCV(RandomForestRegressor(random_state=42), param_grid,verbose=2, refit= True, cv=5)\n",
        "grid_search_rf.fit(X_train_scaled, y_train)\n",
        "\n",
        "# Get best model and predict\n",
        "best_rf_model = grid_search_rf.best_estimator_\n",
        "y_pred_best_rf = best_rf_model.predict(X_test_scaled)"
      ],
      "metadata": {
        "id": "vWK-BkWFP1Y9"
      },
      "execution_count": null,
      "outputs": []
    },
    {
      "cell_type": "code",
      "source": [
        "# making predictions\n",
        "y_pred_best_rf = best_rf_model.predict(X_test_scaled)\n",
        "\n",
        "plt.figure(figsize=(10, 6))\n",
        "plt.scatter(y_test, y_pred_best_rf, alpha=0.7)\n",
        "plt.plot([min(y_test), max(y_test)], [min(y_test), max(y_test)], color='red', linewidth=2)\n",
        "plt.xlabel('Actual Popularity')\n",
        "plt.ylabel('Predicted Popularity')\n",
        "plt.title('Actual Vs Predicted Popularity (Best Random Forest Model)')\n",
        "plt.show()"
      ],
      "metadata": {
        "id": "Jz6KtcCfI8YU"
      },
      "execution_count": null,
      "outputs": []
    }
  ]
}